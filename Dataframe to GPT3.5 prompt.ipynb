{
 "cells": [
  {
   "attachments": {},
   "cell_type": "markdown",
   "metadata": {},
   "source": [
    "## Vom DataFrame zum GPT 3.5/4.0 Prompt"
   ]
  },
  {
   "cell_type": "code",
   "execution_count": 6,
   "metadata": {},
   "outputs": [],
   "source": [
    "from openai import OpenAI\n",
    "import csv\n",
    "import pandas as pd\n",
    "import json\n",
    "from sklearn.model_selection import train_test_split"
   ]
  },
  {
   "cell_type": "code",
   "execution_count": 2,
   "metadata": {},
   "outputs": [],
   "source": [
    "df=pd.read_csv(\"stripped_train.csv\")"
   ]
  },
  {
   "cell_type": "code",
   "execution_count": 3,
   "metadata": {},
   "outputs": [],
   "source": [
    "X_train, X_test, y_train, y_test = train_test_split(df[\"source\"], df[\"target\"], test_size=0.2, random_state=42)"
   ]
  },
  {
   "cell_type": "code",
   "execution_count": 4,
   "metadata": {},
   "outputs": [],
   "source": [
    "#train_df=pd.read_csv(\"Data.csv\")\n",
    "train=pd.DataFrame(columns=[\"source\",\"target\"])\n",
    "train[\"source\"]=X_train.reset_index(drop=True)\n",
    "train[\"target\"]=y_train.reset_index(drop=True)\n",
    "test=pd.DataFrame(columns=[\"source\",\"target\"])\n",
    "test[\"source\"]=X_test.reset_index(drop=True)\n",
    "test[\"target\"]=y_test.reset_index(drop=True)"
   ]
  },
  {
   "cell_type": "code",
   "execution_count": 5,
   "metadata": {},
   "outputs": [],
   "source": [
    "source_list=train[\"source\"].to_list()\n",
    "target_list=train[\"target\"].to_list()\n",
    "test_source_list=test[\"source\"].to_list()\n",
    "test_target_list=test[\"target\"].to_list()"
   ]
  },
  {
   "cell_type": "code",
   "execution_count": 6,
   "metadata": {},
   "outputs": [],
   "source": [
    "def df_to_dict(diction, s_list, t_lists):\n",
    "    for i in range(len(s_list)):\n",
    "        diction[i]=[]\n",
    "        diction[i].append({\"messages\":[{\"role\":\"system\",\"content\":\"Hier soll eine EDI Bestellung ins IDOC Format uebersetzt werden\"},\n",
    "                                       {\"role\":\"user\",\"content\":s_list[i]},{\"role\":\"assistant\",\"content\":t_lists[i]}]})"
   ]
  },
  {
   "cell_type": "code",
   "execution_count": 7,
   "metadata": {},
   "outputs": [],
   "source": [
    "\n",
    "train_dict = {}\n",
    "test_dict={}\n",
    "df_to_dict(train_dict,source_list, target_list)\n",
    "df_to_dict(test_dict,test_source_list,test_target_list)"
   ]
  },
  {
   "cell_type": "code",
   "execution_count": 8,
   "metadata": {},
   "outputs": [],
   "source": [
    "values_train = list(train_dict.values())\n",
    "values_test = list(test_dict.values())"
   ]
  },
  {
   "cell_type": "code",
   "execution_count": 9,
   "metadata": {},
   "outputs": [
    {
     "data": {
      "text/plain": [
       "9007"
      ]
     },
     "execution_count": 9,
     "metadata": {},
     "output_type": "execute_result"
    }
   ],
   "source": [
    "len(values_train)"
   ]
  },
  {
   "cell_type": "code",
   "execution_count": 10,
   "metadata": {},
   "outputs": [],
   "source": [
    "def turn_into_jsonl_gpt35(string,lists):\n",
    "    with open(string, 'w') as file:\n",
    "            for value in range(len(lists)):\n",
    "            #for value in range(50):\n",
    "                json_line=json.dumps(lists[value][0])\n",
    "                file.write(json_line+ '\\n')\n",
    "                    # Die Werte als JSON-String in einer Zeile speichern\n",
    "                    #json_line = json.dumps(value)\n",
    "                    #file.write(json_line + '\\n')"
   ]
  },
  {
   "cell_type": "code",
   "execution_count": 11,
   "metadata": {},
   "outputs": [],
   "source": [
    "turn_into_jsonl_gpt35(\"trainchat_all.jsonl\",values_train)\n",
    "turn_into_jsonl_gpt35(\"validchat_all.jsonl\",values_test)\n"
   ]
  },
  {
   "cell_type": "code",
   "execution_count": 11,
   "metadata": {},
   "outputs": [
    {
     "name": "stdout",
     "output_type": "stream",
     "text": [
      "9007 jsons\n"
     ]
    },
    {
     "name": "stderr",
     "output_type": "stream",
     "text": [
      "100%|██████████| 9007/9007 [00:23<00:00, 387.82it/s]"
     ]
    },
    {
     "name": "stdout",
     "output_type": "stream",
     "text": [
      "50689285 tokens\n",
      "1216.54284 USD kostet der ganze Spaß.\n"
     ]
    },
    {
     "name": "stderr",
     "output_type": "stream",
     "text": [
      "\n"
     ]
    }
   ],
   "source": [
    "import tiktoken\n",
    "import json\n",
    "from tqdm import tqdm\n",
    "\n",
    "\n",
    "def num_tokens_from_messages(messages, model=\"gpt-3.5-turbo-0613\"):\n",
    "    \"\"\"Return the number of tokens used by a list of messages.\"\"\"\n",
    "    try:\n",
    "        encoding = tiktoken.encoding_for_model(model)\n",
    "    except KeyError:\n",
    "        print(\"Warning: model not found. Using cl100k_base encoding.\")\n",
    "        encoding = tiktoken.get_encoding(\"cl100k_base\")\n",
    "    if model in {\n",
    "        \"gpt-3.5-turbo-0613\",\n",
    "        \"gpt-3.5-turbo-16k-0613\",\n",
    "        \"gpt-4-0314\",\n",
    "        \"gpt-4-32k-0314\",\n",
    "        \"gpt-4-0613\",\n",
    "        \"gpt-4-32k-0613\",\n",
    "        }:\n",
    "        tokens_per_message = 3\n",
    "        tokens_per_name = 1\n",
    "    elif model == \"gpt-3.5-turbo-0301\":\n",
    "        tokens_per_message = 4  # every message follows <|start|>{role/name}\\n{content}<|end|>\\n\n",
    "        tokens_per_name = -1  # if there's a name, the role is omitted\n",
    "    elif \"gpt-3.5-turbo\" in model:\n",
    "        print(\"Warning: gpt-3.5-turbo may update over time. Returning num tokens assuming gpt-3.5-turbo-0613.\")\n",
    "        return num_tokens_from_messages(messages, model=\"gpt-3.5-turbo-0613\")\n",
    "    elif \"gpt-4\" in model:\n",
    "        print(\"Warning: gpt-4 may update over time. Returning num tokens assuming gpt-4-0613.\")\n",
    "        return num_tokens_from_messages(messages, model=\"gpt-4-0613\")\n",
    "    else:\n",
    "        raise NotImplementedError(\n",
    "            f\"\"\"num_tokens_from_messages() is not implemented for model {model}. See https://github.com/openai/openai-python/blob/main/chatml.md for information on how messages are converted to tokens.\"\"\"\n",
    "        )\n",
    "    num_tokens = 0\n",
    "    for message in messages:\n",
    "        num_tokens += tokens_per_message\n",
    "        for key, value in message.items():\n",
    "            num_tokens += len(encoding.encode(value))\n",
    "            if key == \"name\":\n",
    "                num_tokens += tokens_per_name\n",
    "    num_tokens += 3  # every reply is primed with <|start|>assistant<|message|>\n",
    "    return num_tokens\n",
    "\n",
    "# Number of tokens in the training set\n",
    "counter = 0\n",
    "\n",
    "# Load the training set\n",
    "with open(\"/Users/huyduc/Documents/GitHub/Hettich/trainchat_all.jsonl\", \"r\") as f:\n",
    "    data = [json.loads(line) for line in f.readlines()]\n",
    "\n",
    "# Count the jsons\n",
    "print(f\"{len(data)} jsons\")\n",
    "\n",
    "# Count the tokens\n",
    "for d in tqdm(data):\n",
    "\n",
    "    counter = counter + (num_tokens_from_messages(d[\"messages\"]))\n",
    "\n",
    "# Print the resulting number of tokens\n",
    "print(f\"{counter} tokens\")\n",
    "print(f\"{(counter*3*0.008)/1000} USD kostet der ganze Spaß.\")\n",
    "\n"
   ]
  }
 ],
 "metadata": {
  "kernelspec": {
   "display_name": "anacondaforarm",
   "language": "python",
   "name": "python3"
  },
  "language_info": {
   "codemirror_mode": {
    "name": "ipython",
    "version": 3
   },
   "file_extension": ".py",
   "mimetype": "text/x-python",
   "name": "python",
   "nbconvert_exporter": "python",
   "pygments_lexer": "ipython3",
   "version": "3.9.16"
  },
  "orig_nbformat": 4
 },
 "nbformat": 4,
 "nbformat_minor": 2
}
